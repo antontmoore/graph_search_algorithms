{
  "nbformat": 4,
  "nbformat_minor": 0,
  "metadata": {
    "colab": {
      "name": "Вебинар \"Графы. Дополнительные главы\".ipynb",
      "provenance": [],
      "collapsed_sections": [
        "guMq410Qxkcg",
        "KOlWKqhZYzSB",
        "q0GJn5WgdMAK"
      ],
      "authorship_tag": "ABX9TyP385QJr3p35SFJF0gRzbsy",
      "include_colab_link": true
    },
    "kernelspec": {
      "name": "python3",
      "display_name": "Python 3"
    }
  },
  "cells": [
    {
      "cell_type": "markdown",
      "metadata": {
        "id": "view-in-github",
        "colab_type": "text"
      },
      "source": [
        "<a href=\"https://colab.research.google.com/github/antontmur/graph_search_algorithms/blob/master/Graph%20Search%20Algorithms%20(rus).ipynb\" target=\"_parent\"><img src=\"https://colab.research.google.com/assets/colab-badge.svg\" alt=\"Open In Colab\"/></a>"
      ]
    },
    {
      "cell_type": "markdown",
      "metadata": {
        "id": "V67g65jx-KML"
      },
      "source": [
        "# Импорт"
      ]
    },
    {
      "cell_type": "code",
      "metadata": {
        "id": "JJZjYuaLjVDk",
        "colab": {
          "base_uri": "https://localhost:8080/"
        },
        "outputId": "8956fcbc-7f06-43f6-8072-b6a7c75d0a6f"
      },
      "source": [
        "from google.colab import drive\n",
        "drive.mount('/content/gdrive/')\n",
        "home_dir = '/content/gdrive/My Drive/Colab Notebooks/praktikum/'\n",
        "import os\n",
        "os.chdir(home_dir)\n",
        "\n",
        "from math import sqrt\n",
        "from utils import generate_graph, generate_maze, print_path\n",
        "from graph_animation import GraphAnimation"
      ],
      "execution_count": 25,
      "outputs": [
        {
          "output_type": "stream",
          "text": [
            "Drive already mounted at /content/gdrive/; to attempt to forcibly remount, call drive.mount(\"/content/gdrive/\", force_remount=True).\n"
          ],
          "name": "stdout"
        }
      ]
    },
    {
      "cell_type": "markdown",
      "metadata": {
        "id": "PxDmQkeB-j5T"
      },
      "source": [
        "# Ищем путь в небольшом графе"
      ]
    },
    {
      "cell_type": "markdown",
      "metadata": {
        "id": "CsgD8Sjh9TZv"
      },
      "source": [
        "## Создаём задачу"
      ]
    },
    {
      "cell_type": "code",
      "metadata": {
        "id": "XFDSiOItjb89"
      },
      "source": [
        "# Создаём простой граф, в котором будем искать путь от одного узла к другому\n",
        "graph = generate_graph()\n",
        "\n",
        "# Задаём начальный и конечный узлы графа\n",
        "start_node = 0\n",
        "goal_node = 10\n",
        "\n",
        "# Наш помощник для создания анимаций\n",
        "graph_animation = GraphAnimation(graph, start_node, goal_node,\n",
        "                                 is_maze=False, maze_list=[])\n",
        "fig = graph_animation.make_one_shot()\n",
        "fig.show()"
      ],
      "execution_count": null,
      "outputs": []
    },
    {
      "cell_type": "markdown",
      "metadata": {
        "id": "WUsxW6CH-Rp8"
      },
      "source": [
        "## Вспомогательные классы. \n",
        "Структуры данных под разные алгоритмы."
      ]
    },
    {
      "cell_type": "markdown",
      "metadata": {
        "id": "guMq410Qxkcg"
      },
      "source": [
        "### Стек и очередь."
      ]
    },
    {
      "cell_type": "code",
      "metadata": {
        "id": "rPXEy17xhe_3"
      },
      "source": [
        "class Stack:\n",
        "    '''Обычный стек, устроенный по принципу LIFO - Last In First Out'''\n",
        "\n",
        "    def __init__(self):\n",
        "        self.data = []\n",
        "\n",
        "    def insert(self, elem):\n",
        "        self.data.append(elem)\n",
        "\n",
        "    def get_first(self):\n",
        "        return self.data.pop()\n",
        "\n",
        "    def empty(self):\n",
        "        return len(self.data) == 0\n",
        "\n",
        "\n",
        "class Queue:\n",
        "    '''Обычная очередь, устроенная по принципу FIFO - First In First Out'''\n",
        "\n",
        "    def __init__(self):\n",
        "        self.data = []\n",
        "\n",
        "    def insert(self, elem):\n",
        "        self.data.append(elem)\n",
        "\n",
        "    def get_first(self):\n",
        "        return self.data.pop(0)\n",
        "\n",
        "    def empty(self):\n",
        "        return len(self.data) == 0\n"
      ],
      "execution_count": 27,
      "outputs": []
    },
    {
      "cell_type": "markdown",
      "metadata": {
        "id": "KOlWKqhZYzSB"
      },
      "source": [
        "### Очередь с приоритетом для алгоритма Дейкстры"
      ]
    },
    {
      "cell_type": "code",
      "metadata": {
        "id": "Lq5YheuUY6yC"
      },
      "source": [
        "class DijkstraQueue:\n",
        "    '''Очередь с приоритетом для метода Дейкстры. \n",
        "       В методе get_first() выбирается узел, \n",
        "       до которого расстояние от начального узла минимально'''\n",
        "\n",
        "    def __init__(self, g, dist):\n",
        "        self.data = []\n",
        "        self.graph = g\n",
        "        self.dist = dist\n",
        "\n",
        "    def insert(self, elem):\n",
        "        self.data.append(elem)\n",
        "\n",
        "    def get_first(self):\n",
        "        current_minimum = float('Inf')\n",
        "        current_minimum_vertex = None\n",
        "        for node in self.data:\n",
        "            if self.dist[node] < current_minimum:\n",
        "                current_minimum = self.dist[node]\n",
        "                current_minimum_vertex = node\n",
        "        self.data.remove(current_minimum_vertex)\n",
        "        return current_minimum_vertex\n",
        "\n",
        "    def empty(self):\n",
        "        return len(self.data) == 0"
      ],
      "execution_count": 28,
      "outputs": []
    },
    {
      "cell_type": "markdown",
      "metadata": {
        "id": "q0GJn5WgdMAK"
      },
      "source": [
        "### Очередь с приоритетом для алгоритма A*"
      ]
    },
    {
      "cell_type": "code",
      "metadata": {
        "id": "xDbR4C3OdQi7"
      },
      "source": [
        "class AStarQueue:\n",
        "    '''Очередь с приоритетом для метода Дейкстры. \n",
        "       В методе get_first() выбирается узел, \n",
        "       для которого минимальна сумма:\n",
        "       расстояние от начального узла + оценка расстояния до конечного узла'''\n",
        "\n",
        "    def __init__(self, g, dist, goal_node):\n",
        "        self.data = []\n",
        "        self.graph = g\n",
        "        self.x_goal, self.y_goal = graph.nodes[goal_node]['pos']\n",
        "        self.goal_node = goal_node\n",
        "        self.dist = dist\n",
        "\n",
        "    def insert(self, elem):\n",
        "        self.data.append(elem)\n",
        "\n",
        "    def calc_euristic(self, node):\n",
        "        x_node, y_node = graph.nodes[node]['pos']\n",
        "        dist_to_goal = sqrt((x_node-self.x_goal)**2 + (y_node-self.y_goal)**2)\n",
        "        return self.dist[node] + dist_to_goal\n",
        "\n",
        "    def get_first(self):\n",
        "        current_minimum = float('Inf')\n",
        "        current_minimum_vertex = None\n",
        "        for node in self.data:\n",
        "            euristic = self.calc_euristic(node)\n",
        "            if euristic < current_minimum:\n",
        "                current_minimum = euristic\n",
        "                current_minimum_vertex = node\n",
        "        self.data.remove(current_minimum_vertex)\n",
        "        return current_minimum_vertex\n",
        "\n",
        "    def empty(self):\n",
        "        return len(self.data) == 0\n"
      ],
      "execution_count": 29,
      "outputs": []
    },
    {
      "cell_type": "markdown",
      "metadata": {
        "id": "JzmJZKW_IUR1"
      },
      "source": [
        "## Алгоритм обхода графа в поисках целевого узла"
      ]
    },
    {
      "cell_type": "code",
      "metadata": {
        "id": "s0ZvKN1oIZDW"
      },
      "source": [
        "def find_path(graph, start_node, goal_node, data_structure='Stack'):\n",
        "\n",
        "    # Цвета узлов, расстояние от начала\n",
        "    color = ['white'] * graph.number_of_nodes()\n",
        "    dist = [float('Inf')] * graph.number_of_nodes()\n",
        "    parent = dict()\n",
        "\n",
        "    # Узлы, которые мы хотим посетить\n",
        "    # Выбор структуры данных, которую мы будем использовать для Q \n",
        "    # зависит от входной переменной data_structure\n",
        "    Q = {'Stack' : Stack(),\n",
        "         'Queue' : Queue(),\n",
        "         'DijkstraQueue' : DijkstraQueue(graph, dist),\n",
        "         'AStarQueue' :AStarQueue(graph, dist, goal_node)}[data_structure]\n",
        "\n",
        "    # Начинаем со стартового узла\n",
        "    Q.insert(start_node)\n",
        "    color[start_node] = 'black'\n",
        "    graph_animation.add_frame(color, parent, start_node)\n",
        "    dist[start_node] = 0\n",
        "\n",
        "    # Цикл, пока в Q не закончатся узлы\n",
        "    while not Q.empty():\n",
        "        current_node = Q.get_first()\n",
        "\n",
        "        if current_node == goal_node:\n",
        "            print('SUCCESS !')\n",
        "            print_path(goal_node, parent)\n",
        "            graph_animation.add_frame(color, parent, current_node)\n",
        "            break\n",
        "\n",
        "        # Берём соседей текущего узла\n",
        "        neighbours = list(graph.adj[current_node])\n",
        "        for node_to_go in neighbours:\n",
        "            if color[node_to_go] is 'white':\n",
        "                # Если это новый узел\n",
        "                color[node_to_go] = 'grey'                 # Красим в серый\n",
        "                Q.insert(node_to_go)                       # Добавляем его в \"очередь\"\n",
        "                parent[node_to_go] = current_node          # Запоминаем родителя\n",
        "                dist[node_to_go] = dist[current_node] + graph.get_edge_data(node_to_go, current_node)['weight']\n",
        "            else:\n",
        "                # Иначе решаем конфликт\n",
        "                resolve_duplicate(node_to_go, current_node, dist)\n",
        "\n",
        "        color[current_node] = 'black'                      # Закончили с этим узлом - красим его в чёрный\n",
        "        graph_animation.add_frame(color, parent, current_node)\n",
        "\n",
        "\n",
        "def resolve_duplicate(node_to_go, current_node, dist):\n",
        "    weight = graph.get_edge_data(node_to_go, current_node)['weight']\n",
        "    if dist[current_node] + weight < dist[node_to_go]:\n",
        "        dist[node_to_go] = dist[current_node] + weight\n",
        "    return 0"
      ],
      "execution_count": 30,
      "outputs": []
    },
    {
      "cell_type": "markdown",
      "metadata": {
        "id": "bt3c1dHTxNSf"
      },
      "source": [
        "## Depth-First Search"
      ]
    },
    {
      "cell_type": "code",
      "metadata": {
        "id": "1ah9ku2PI1My"
      },
      "source": [
        "graph_animation = GraphAnimation(graph, start_node, goal_node,\n",
        "                                 is_maze=False, maze_list=[])\n",
        "\n",
        "# Если мы хотим обходить граф, используя DFS, выбираем структуру данных - Стек\n",
        "find_path(graph, start_node, goal_node, data_structure='Stack')\n",
        "fig = graph_animation.make_animation()\n",
        "fig.show()"
      ],
      "execution_count": null,
      "outputs": []
    },
    {
      "cell_type": "markdown",
      "metadata": {
        "id": "0iYDkKJB3-fb"
      },
      "source": [
        "## Breadth-First Search"
      ]
    },
    {
      "cell_type": "code",
      "metadata": {
        "id": "hGvdUh6k4A5D"
      },
      "source": [
        "graph_animation = GraphAnimation(graph, start_node, goal_node,\n",
        "                                 is_maze=False, maze_list=[])\n",
        "\n",
        "# Если мы хотим обходить граф, используя BFS, \n",
        "# выбираем структуру данных - Очередь\n",
        "find_path(graph, start_node, goal_node, data_structure='Queue')\n",
        "fig = graph_animation.make_animation()\n",
        "fig.show()"
      ],
      "execution_count": null,
      "outputs": []
    },
    {
      "cell_type": "markdown",
      "metadata": {
        "id": "naltahdA_ofS"
      },
      "source": [
        "## Алгоритм Дейкстры"
      ]
    },
    {
      "cell_type": "code",
      "metadata": {
        "id": "LsRlaU8a_ux1"
      },
      "source": [
        "graph_animation = GraphAnimation(graph, start_node, goal_node,\n",
        "                                 is_maze=False, maze_list=[], edge_weight=True)\n",
        "\n",
        "# Если мы хотим обходить граф, используя алгоритм Дейкстры, \n",
        "# то используем соответствующую структуру данных - очередь с приоритетом\n",
        "find_path(graph, start_node, goal_node, data_structure='DijkstraQueue')\n",
        "fig = graph_animation.make_animation()\n",
        "fig.show()"
      ],
      "execution_count": null,
      "outputs": []
    },
    {
      "cell_type": "markdown",
      "metadata": {
        "id": "QXUYAkPdYjm9"
      },
      "source": [
        "# Поиск пути в лабиринте"
      ]
    },
    {
      "cell_type": "code",
      "metadata": {
        "id": "lBR8B_7yYqGf"
      },
      "source": [
        "# Создём новую задачу.\n",
        "# На этот раз большой лабиринт\n",
        "graph, maze_list = generate_maze()\n",
        "start_node = 113\n",
        "goal_node = 198\n",
        "\n",
        "graph_animation = GraphAnimation(graph, start_node, goal_node, \n",
        "                                 is_maze=True, maze_list=maze_list)\n",
        "fig = graph_animation.make_one_shot()\n",
        "fig.show()"
      ],
      "execution_count": null,
      "outputs": []
    },
    {
      "cell_type": "markdown",
      "metadata": {
        "id": "dWh3c0B1ElCF"
      },
      "source": [
        "## Проверим, как работает алгоритм Дейкстры"
      ]
    },
    {
      "cell_type": "code",
      "metadata": {
        "id": "r0Gxsn_5cEQ2"
      },
      "source": [
        "graph_animation = GraphAnimation(graph, start_node, goal_node,\n",
        "                                 is_maze=True, maze_list=maze_list)\n",
        "\n",
        "# Если мы хотим обходить граф, используя алгоритм Дейкстры, \n",
        "# то используем соответствующую структуру данных - очередь с приоритетом\n",
        "find_path(graph, start_node, goal_node, data_structure='DijkstraQueue')\n",
        "fig = graph_animation.make_animation()\n",
        "fig.show()"
      ],
      "execution_count": null,
      "outputs": []
    },
    {
      "cell_type": "markdown",
      "metadata": {
        "id": "XyKt29wEFdP3"
      },
      "source": [
        "## И сравним с алгоритмом А*"
      ]
    },
    {
      "cell_type": "code",
      "metadata": {
        "id": "T1a-5KTEFv61"
      },
      "source": [
        "graph_animation = GraphAnimation(graph, start_node, goal_node,\n",
        "                                 is_maze=True, maze_list=maze_list)\n",
        "\n",
        "# Для поиска с помощь алгоритма А* будем использовать очередь,\n",
        "# в которой приоритет определяется с учётом оценки расстояния до goal\n",
        "find_path(graph, start_node, goal_node, data_structure='AStarQueue')\n",
        "fig = graph_animation.make_animation()\n",
        "fig.show()"
      ],
      "execution_count": null,
      "outputs": []
    }
  ]
}